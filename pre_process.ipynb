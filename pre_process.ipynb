{
 "cells": [
  {
   "cell_type": "code",
   "execution_count": 2,
   "metadata": {},
   "outputs": [],
   "source": [
    "import pandas as pd"
   ]
  },
  {
   "cell_type": "code",
   "execution_count": 8,
   "metadata": {},
   "outputs": [],
   "source": [
    "# Smaller Test files\n",
    "# file_path = \"./data/CNN_Articles_small.csv\"\n",
    "# output_path = \"./data/cnn_articles_small_cleaned.csv\"\n",
    "\n",
    "file_path = \"./data/CNN_Articles_large_1.csv\"\n",
    "output_path = \"./data/cnn_articles_large_trimmed_2.csv\""
   ]
  },
  {
   "cell_type": "code",
   "execution_count": 10,
   "metadata": {},
   "outputs": [
    {
     "name": "stdout",
     "output_type": "stream",
     "text": [
      "                                                Author       Date published  \\\n",
      "144                              Jennifer Hansler, CNN  2022-03-20 20:42:55   \n",
      "155                       Analysis by Daniel Dale, CNN  2022-01-20 12:00:17   \n",
      "156                Daniel Dale and Marshall Cohen, CNN  2022-01-04 23:12:55   \n",
      "157                       Analysis by Daniel Dale, CNN  2021-03-03 01:33:41   \n",
      "158  Terence Burlij, Melissa Holzberg DePalo and Et...  2022-02-26 10:00:09   \n",
      "\n",
      "     Category                                                Url  \\\n",
      "144  politics  https://www.cnn.com/2022/03/20/politics/biden-...   \n",
      "155  politics  https://www.cnn.com/2022/01/20/politics/fact-c...   \n",
      "156  politics  https://www.cnn.com/2022/01/04/politics/fact-c...   \n",
      "157  politics  https://www.cnn.com/2021/03/02/politics/fact-c...   \n",
      "158  politics  https://www.cnn.com/2022/02/26/politics/key-da...   \n",
      "\n",
      "                                              Headline  \\\n",
      "144  Genocide in Myanmar: Biden administration form...   \n",
      "155  Fact check: A look at Biden's first year in fa...   \n",
      "156  Fact check: 5 enduring lies about Capitol insu...   \n",
      "157  Anatomy of a lie: How the myth that Antifa sto...   \n",
      "158  Key dates for the 2022 midterm election - CNNP...   \n",
      "\n",
      "                                           Description  \\\n",
      "144  The Biden administration has formally determin...   \n",
      "155  When President Joe Biden passingly said in a v...   \n",
      "156  The Capitol insurrection was based on a lie ab...   \n",
      "157  Despite numerous debunkings, the lie that Anti...   \n",
      "158  Voting ends in the first primaries for the 202...   \n",
      "\n",
      "                                              Keywords  \\\n",
      "144  politics, Genocide in Myanmar: Biden administr...   \n",
      "155  politics, Fact check: A look at Biden's first ...   \n",
      "156  politics, Fact check: 5 enduring lies about Ca...   \n",
      "157  politics, Anatomy of a lie: How the myth that ...   \n",
      "158  politics, Key dates for the 2022 midterm elect...   \n",
      "\n",
      "                                       Second headline  \\\n",
      "144  Biden administration formally determines Myanm...   \n",
      "155  Fact check: A look at Biden's first year in fa...   \n",
      "156  Fact check: Five enduring lies about the Capit...   \n",
      "157  Anatomy of a lie: How the myth that Antifa sto...   \n",
      "158            A roadmap to the 2022 midterm elections   \n",
      "\n",
      "                                          Article text y_label_sentiment  \\\n",
      "144   (CNN)The Biden administration has formally de...                     \n",
      "155  Washington (CNN)When President Joe Biden passi...                     \n",
      "156  Washington (CNN)The Capitol insurrection was b...                     \n",
      "157  Washington (CNN)FBI Director Christopher Wray ...                     \n",
      "158   (CNN)Voting ends in the first primaries for t...                     \n",
      "\n",
      "    y_label_politics  \n",
      "144                   \n",
      "155                   \n",
      "156                   \n",
      "157                   \n",
      "158                   \n",
      "Length of the dataset: 2461\n"
     ]
    }
   ],
   "source": [
    "# Clean data and add empty label columns for GPT 4 to fill\n",
    "def clean_data(input_path, output_path):\n",
    "    df = pd.read_csv(input_path)\n",
    "    filtered_df = df[df[\"Category\"] == \"politics\"]\n",
    "\n",
    "    if \"Index\" in filtered_df.columns:\n",
    "        filtered_df = filtered_df.drop(columns=[\"Index\"])\n",
    "    if \"Section\" in filtered_df.columns:\n",
    "        filtered_df = filtered_df.drop(columns=[\"Section\"])\n",
    "\n",
    "    filtered_df[\"y_label_sentiment\"] = \"\"\n",
    "    filtered_df[\"y_label_politics\"] = \"\"\n",
    "\n",
    "    print(filtered_df.head())\n",
    "\n",
    "    print(f\"Length of the dataset: {len(filtered_df)}\")\n",
    "    filtered_df.to_csv(output_path, index=False)\n",
    "\n",
    "\n",
    "clean_data(file_path, output_path)"
   ]
  }
 ],
 "metadata": {
  "kernelspec": {
   "display_name": "nlp_project",
   "language": "python",
   "name": "python3"
  },
  "language_info": {
   "codemirror_mode": {
    "name": "ipython",
    "version": 3
   },
   "file_extension": ".py",
   "mimetype": "text/x-python",
   "name": "python",
   "nbconvert_exporter": "python",
   "pygments_lexer": "ipython3",
   "version": "3.10.14"
  }
 },
 "nbformat": 4,
 "nbformat_minor": 2
}
